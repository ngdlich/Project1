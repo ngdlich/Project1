{
 "cells": [
  {
   "cell_type": "code",
   "execution_count": 121,
   "metadata": {},
   "outputs": [],
   "source": [
    "import numpy as np\n",
    "import pandas as pd\n",
    "import seaborn as sb\n",
    "import matplotlib.pyplot as plt\n",
    "import sklearn\n",
    "\n",
    "from pandas import Series, DataFrame\n",
    "from pylab import rcParams\n",
    "from sklearn import preprocessing\n",
    "from sklearn.linear_model import LogisticRegression\n",
    "from sklearn.model_selection import train_test_split\n",
    "from sklearn import metrics \n",
    "from sklearn.metrics import classification_report\n",
    "from sklearn.model_selection import train_test_split"
   ]
  },
  {
   "cell_type": "code",
   "execution_count": 122,
   "metadata": {},
   "outputs": [],
   "source": [
    "%matplotlib inline\n",
    "rcParams['figure.figsize'] = 10, 8\n",
    "\n",
    "sb.set_style('whitegrid')"
   ]
  },
  {
   "cell_type": "code",
   "execution_count": 123,
   "metadata": {},
   "outputs": [],
   "source": [
    "pc1 = pd.read_csv('D:\\Python\\PC1.csv', sep=',')\n",
    "pc3 = pd.read_csv('D:\\Python\\PC3.csv', sep=',')\n",
    "pc4 = pd.read_csv('D:\\Python\\PC4.csv', sep=',')"
   ]
  },
  {
   "cell_type": "code",
   "execution_count": 124,
   "metadata": {},
   "outputs": [
    {
     "name": "stdout",
     "output_type": "stream",
     "text": [
      "         \n",
      "PC1   679\n",
      "PC3  1053\n",
      "PC4  1270\n"
     ]
    }
   ],
   "source": [
    "len_pc1 = len(pc1)\n",
    "len_pc3 = len(pc3)\n",
    "len_pc4 = len(pc4)\n",
    "\n",
    "data = [len_pc1, len_pc3, len_pc4]\n",
    "columns =  ['   ']\n",
    "index = ['PC1', 'PC3', 'PC4']\n",
    "df = pd.DataFrame(data, columns=columns, index=index)\n",
    "print(df)"
   ]
  },
  {
   "cell_type": "code",
   "execution_count": 165,
   "metadata": {},
   "outputs": [
    {
     "data": {
      "text/html": [
       "<div>\n",
       "<style scoped>\n",
       "    .dataframe tbody tr th:only-of-type {\n",
       "        vertical-align: middle;\n",
       "    }\n",
       "\n",
       "    .dataframe tbody tr th {\n",
       "        vertical-align: top;\n",
       "    }\n",
       "\n",
       "    .dataframe thead th {\n",
       "        text-align: right;\n",
       "    }\n",
       "</style>\n",
       "<table border=\"1\" class=\"dataframe\">\n",
       "  <thead>\n",
       "    <tr style=\"text-align: right;\">\n",
       "      <th></th>\n",
       "      <th>id</th>\n",
       "      <th>LOC_BLANK</th>\n",
       "      <th>BRANCH_COUNT</th>\n",
       "      <th>CALL_PAIRS</th>\n",
       "      <th>LOC_CODE_AND_COMMENT</th>\n",
       "      <th>LOC_COMMENTS</th>\n",
       "      <th>CONDITION_COUNT</th>\n",
       "      <th>CYCLOMATIC_COMPLEXITY</th>\n",
       "      <th>CYCLOMATIC_DENSITY</th>\n",
       "      <th>DECISION_COUNT</th>\n",
       "      <th>...</th>\n",
       "      <th>NODE_COUNT</th>\n",
       "      <th>NORMALIZED_CYLOMATIC_COMPLEXITY</th>\n",
       "      <th>NUM_OPERANDS</th>\n",
       "      <th>NUM_OPERATORS</th>\n",
       "      <th>NUM_UNIQUE_OPERANDS</th>\n",
       "      <th>NUM_UNIQUE_OPERATORS</th>\n",
       "      <th>NUMBER_OF_LINES</th>\n",
       "      <th>PERCENT_COMMENTS</th>\n",
       "      <th>LOC_TOTAL</th>\n",
       "      <th>Defective</th>\n",
       "    </tr>\n",
       "  </thead>\n",
       "  <tbody>\n",
       "    <tr>\n",
       "      <th>0</th>\n",
       "      <td>1</td>\n",
       "      <td>7</td>\n",
       "      <td>7</td>\n",
       "      <td>0</td>\n",
       "      <td>5</td>\n",
       "      <td>6</td>\n",
       "      <td>12</td>\n",
       "      <td>4</td>\n",
       "      <td>0.17</td>\n",
       "      <td>6</td>\n",
       "      <td>...</td>\n",
       "      <td>11</td>\n",
       "      <td>0.11</td>\n",
       "      <td>56</td>\n",
       "      <td>60</td>\n",
       "      <td>21</td>\n",
       "      <td>12</td>\n",
       "      <td>38</td>\n",
       "      <td>36.67</td>\n",
       "      <td>24</td>\n",
       "      <td>1</td>\n",
       "    </tr>\n",
       "    <tr>\n",
       "      <th>1</th>\n",
       "      <td>2</td>\n",
       "      <td>0</td>\n",
       "      <td>5</td>\n",
       "      <td>3</td>\n",
       "      <td>1</td>\n",
       "      <td>0</td>\n",
       "      <td>8</td>\n",
       "      <td>3</td>\n",
       "      <td>0.33</td>\n",
       "      <td>4</td>\n",
       "      <td>...</td>\n",
       "      <td>11</td>\n",
       "      <td>0.30</td>\n",
       "      <td>14</td>\n",
       "      <td>16</td>\n",
       "      <td>11</td>\n",
       "      <td>9</td>\n",
       "      <td>10</td>\n",
       "      <td>11.11</td>\n",
       "      <td>9</td>\n",
       "      <td>0</td>\n",
       "    </tr>\n",
       "    <tr>\n",
       "      <th>2</th>\n",
       "      <td>3</td>\n",
       "      <td>5</td>\n",
       "      <td>11</td>\n",
       "      <td>7</td>\n",
       "      <td>5</td>\n",
       "      <td>10</td>\n",
       "      <td>20</td>\n",
       "      <td>6</td>\n",
       "      <td>0.14</td>\n",
       "      <td>10</td>\n",
       "      <td>...</td>\n",
       "      <td>27</td>\n",
       "      <td>0.10</td>\n",
       "      <td>95</td>\n",
       "      <td>126</td>\n",
       "      <td>69</td>\n",
       "      <td>12</td>\n",
       "      <td>58</td>\n",
       "      <td>28.85</td>\n",
       "      <td>42</td>\n",
       "      <td>0</td>\n",
       "    </tr>\n",
       "    <tr>\n",
       "      <th>3</th>\n",
       "      <td>4</td>\n",
       "      <td>11</td>\n",
       "      <td>13</td>\n",
       "      <td>1</td>\n",
       "      <td>0</td>\n",
       "      <td>6</td>\n",
       "      <td>18</td>\n",
       "      <td>7</td>\n",
       "      <td>0.22</td>\n",
       "      <td>6</td>\n",
       "      <td>...</td>\n",
       "      <td>18</td>\n",
       "      <td>0.14</td>\n",
       "      <td>86</td>\n",
       "      <td>96</td>\n",
       "      <td>29</td>\n",
       "      <td>20</td>\n",
       "      <td>50</td>\n",
       "      <td>15.79</td>\n",
       "      <td>32</td>\n",
       "      <td>0</td>\n",
       "    </tr>\n",
       "    <tr>\n",
       "      <th>4</th>\n",
       "      <td>5</td>\n",
       "      <td>8</td>\n",
       "      <td>13</td>\n",
       "      <td>6</td>\n",
       "      <td>0</td>\n",
       "      <td>7</td>\n",
       "      <td>20</td>\n",
       "      <td>7</td>\n",
       "      <td>0.25</td>\n",
       "      <td>10</td>\n",
       "      <td>...</td>\n",
       "      <td>21</td>\n",
       "      <td>0.16</td>\n",
       "      <td>56</td>\n",
       "      <td>69</td>\n",
       "      <td>30</td>\n",
       "      <td>17</td>\n",
       "      <td>44</td>\n",
       "      <td>20.00</td>\n",
       "      <td>28</td>\n",
       "      <td>0</td>\n",
       "    </tr>\n",
       "  </tbody>\n",
       "</table>\n",
       "<p>5 rows × 39 columns</p>\n",
       "</div>"
      ],
      "text/plain": [
       "   id  LOC_BLANK  BRANCH_COUNT  CALL_PAIRS  LOC_CODE_AND_COMMENT  \\\n",
       "0   1          7             7           0                     5   \n",
       "1   2          0             5           3                     1   \n",
       "2   3          5            11           7                     5   \n",
       "3   4         11            13           1                     0   \n",
       "4   5          8            13           6                     0   \n",
       "\n",
       "   LOC_COMMENTS  CONDITION_COUNT  CYCLOMATIC_COMPLEXITY  CYCLOMATIC_DENSITY  \\\n",
       "0             6               12                      4                0.17   \n",
       "1             0                8                      3                0.33   \n",
       "2            10               20                      6                0.14   \n",
       "3             6               18                      7                0.22   \n",
       "4             7               20                      7                0.25   \n",
       "\n",
       "   DECISION_COUNT  ...  NODE_COUNT  NORMALIZED_CYLOMATIC_COMPLEXITY  \\\n",
       "0               6  ...          11                             0.11   \n",
       "1               4  ...          11                             0.30   \n",
       "2              10  ...          27                             0.10   \n",
       "3               6  ...          18                             0.14   \n",
       "4              10  ...          21                             0.16   \n",
       "\n",
       "   NUM_OPERANDS  NUM_OPERATORS  NUM_UNIQUE_OPERANDS  NUM_UNIQUE_OPERATORS  \\\n",
       "0            56             60                   21                    12   \n",
       "1            14             16                   11                     9   \n",
       "2            95            126                   69                    12   \n",
       "3            86             96                   29                    20   \n",
       "4            56             69                   30                    17   \n",
       "\n",
       "   NUMBER_OF_LINES  PERCENT_COMMENTS  LOC_TOTAL  Defective  \n",
       "0               38             36.67         24          1  \n",
       "1               10             11.11          9          0  \n",
       "2               58             28.85         42          0  \n",
       "3               50             15.79         32          0  \n",
       "4               44             20.00         28          0  \n",
       "\n",
       "[5 rows x 39 columns]"
      ]
     },
     "execution_count": 165,
     "metadata": {},
     "output_type": "execute_result"
    }
   ],
   "source": [
    "pc1['Defective'],_ = pd.factorize(pc1['Defective'])\n",
    "pc1['Defective'] = 1 - pc1['Defective']\n",
    "pc3['Defective'],_ = pd.factorize(pc3['Defective'])\n",
    "pc4['Defective'],_ = pd.factorize(pc4['Defective'])\n",
    "pc1.head()"
   ]
  },
  {
   "cell_type": "code",
   "execution_count": 166,
   "metadata": {},
   "outputs": [
    {
     "data": {
      "text/plain": [
       "Text(0, 0.5, 'Percentage')"
      ]
     },
     "execution_count": 166,
     "metadata": {},
     "output_type": "execute_result"
    },
    {
     "data": {
      "image/png": "[encoded data removed]",
      "text/plain": [
       "<Figure size 720x576 with 1 Axes>"
      ]
     },
     "metadata": {},
     "output_type": "display_data"
    }
   ],
   "source": [
    "def histogram_of_post(data):\n",
    "    total = len(data)\n",
    "    ax = sb.countplot(x='Defective',data=data, palette='hls')\n",
    "    for p in ax.patches:\n",
    "        ax.annotate('{:.1f}%'.format(100*p.get_height()/total), (p.get_x()+0.1, p.get_height()+5))\n",
    "\n",
    "    #put 11 ticks (therefore 10 steps), from 0 to the total number of rows in the dataframe\n",
    "    ax.yaxis.set_ticks(np.linspace(0, total, 11))\n",
    "\n",
    "    #adjust the ticklabel to the desired format, without changing the position of the ticks. \n",
    "    _ = ax.set_yticklabels(map('{:.1f}%'.format, 100*ax.yaxis.get_majorticklocs()/total))\n",
    "    return ax;\n",
    "ax = histogram_of_post(pc1)\n",
    "plt.title('Histogram of post-release defects',color = 'blue',fontsize=16)\n",
    "plt.xlabel('Number of Post_Release Defects')\n",
    "plt.ylabel('Percentage')"
   ]
  },
  {
   "cell_type": "code",
   "execution_count": 167,
   "metadata": {},
   "outputs": [
    {
     "data": {
      "text/plain": [
       "Text(0, 0.5, 'Percentage')"
      ]
     },
     "execution_count": 167,
     "metadata": {},
     "output_type": "execute_result"
    },
    {
     "data": {
      "image/png": "[encoded data removed]",
      "text/plain": [
       "<Figure size 720x576 with 1 Axes>"
      ]
     },
     "metadata": {},
     "output_type": "display_data"
    }
   ],
   "source": [
    "ax = histogram_of_post(pc3)\n",
    "plt.title('Histogram of post-release defects',color = 'blue',fontsize=16)\n",
    "plt.xlabel('Number of Post_Release Defects')\n",
    "plt.ylabel('Percentage')"
   ]
  },
  {
   "cell_type": "code",
   "execution_count": 168,
   "metadata": {},
   "outputs": [
    {
     "data": {
      "text/plain": [
       "Text(0, 0.5, 'Percentage')"
      ]
     },
     "execution_count": 168,
     "metadata": {},
     "output_type": "execute_result"
    },
    {
     "data": {
      "image/png": "[encoded data removed]",
      "text/plain": [
       "<Figure size 720x576 with 1 Axes>"
      ]
     },
     "metadata": {},
     "output_type": "display_data"
    }
   ],
   "source": [
    "ax = histogram_of_post(pc4)\n",
    "plt.title('Histogram of post-release defects',color = 'blue',fontsize=16)\n",
    "plt.xlabel('Number of Post_Release Defects')\n",
    "plt.ylabel('Percentage')"
   ]
  },
  {
   "cell_type": "code",
   "execution_count": 223,
   "metadata": {},
   "outputs": [],
   "source": [
    "from sklearn.linear_model import LinearRegression\n",
    "from scipy.stats.stats import pearsonr\n",
    "from scipy.stats.stats import spearmanr\n",
    "def ranking(train, test):\n",
    "    X = train[['LOC_BLANK', 'BRANCH_COUNT','CALL_PAIRS', 'LOC_CODE_AND_COMMENT', 'LOC_COMMENTS', 'CONDITION_COUNT', 'CYCLOMATIC_COMPLEXITY', 'CYCLOMATIC_DENSITY', 'DECISION_COUNT', 'DECISION_DENSITY', 'DESIGN_COMPLEXITY', 'DESIGN_DENSITY', 'EDGE_COUNT', 'ESSENTIAL_COMPLEXITY', 'ESSENTIAL_DENSITY', 'LOC_EXECUTABLE', 'PARAMETER_COUNT', 'HALSTEAD_CONTENT', 'HALSTEAD_DIFFICULTY', 'HALSTEAD_EFFORT', 'HALSTEAD_ERROR_EST', 'HALSTEAD_LENGTH', 'HALSTEAD_LEVEL', 'HALSTEAD_PROG_TIME', 'HALSTEAD_VOLUME', 'MAINTENANCE_SEVERITY', 'MODIFIED_CONDITION_COUNT', 'MULTIPLE_CONDITION_COUNT', 'NODE_COUNT', 'NORMALIZED_CYLOMATIC_COMPLEXITY', 'NUM_OPERANDS', 'NUM_OPERATORS','NUM_UNIQUE_OPERANDS','NUM_UNIQUE_OPERATORS','NUMBER_OF_LINES','PERCENT_COMMENTS','LOC_TOTAL']]\n",
    "    Y = train['Defective']\n",
    "    lm = LinearRegression()\n",
    "    lm.fit(X, Y)\n",
    "    R2 = round(lm.score(X, Y), 3)\n",
    "    X_test = test[['LOC_BLANK', 'BRANCH_COUNT','CALL_PAIRS', 'LOC_CODE_AND_COMMENT', 'LOC_COMMENTS', 'CONDITION_COUNT', 'CYCLOMATIC_COMPLEXITY', 'CYCLOMATIC_DENSITY', 'DECISION_COUNT', 'DECISION_DENSITY', 'DESIGN_COMPLEXITY', 'DESIGN_DENSITY', 'EDGE_COUNT', 'ESSENTIAL_COMPLEXITY', 'ESSENTIAL_DENSITY', 'LOC_EXECUTABLE', 'PARAMETER_COUNT', 'HALSTEAD_CONTENT', 'HALSTEAD_DIFFICULTY', 'HALSTEAD_EFFORT', 'HALSTEAD_ERROR_EST', 'HALSTEAD_LENGTH', 'HALSTEAD_LEVEL', 'HALSTEAD_PROG_TIME', 'HALSTEAD_VOLUME', 'MAINTENANCE_SEVERITY', 'MODIFIED_CONDITION_COUNT', 'MULTIPLE_CONDITION_COUNT', 'NODE_COUNT', 'NORMALIZED_CYLOMATIC_COMPLEXITY', 'NUM_OPERANDS', 'NUM_OPERATORS','NUM_UNIQUE_OPERANDS','NUM_UNIQUE_OPERATORS','NUMBER_OF_LINES','PERCENT_COMMENTS','LOC_TOTAL']]\n",
    "    Y_pred = lm.predict(X_test)\n",
    "    Y_post = test['Defective']\n",
    "    pear = round(pearsonr(Y_post, Y_pred)[0], 3)\n",
    "    spear = round(spearmanr(Y_post, Y_pred)[0], 3)\n",
    "    rank = [R2, pear, spear]\n",
    "    return rank;"
   ]
  },
  {
   "cell_type": "code",
   "execution_count": 254,
   "metadata": {},
   "outputs": [
    {
     "name": "stdout",
     "output_type": "stream",
     "text": [
      "Ranking files with linear regression (Pearson and Spearman correlation)\n",
      "+ ---------- + ---------- + ---------- + ---------- + ---------- +\n",
      "|  Training  |  Testing   |     R2     |  Pearson   |  Spearman  |\n",
      "+ ---------- + ---------- + ---------- + ---------- + ---------- +\n",
      "|    PC1     |    PC1     |   0.258    |   0.508    |    0.37    |\n",
      "|    PC1     |    PC4     |   0.258    |    0.08    |   0.182    |\n",
      "|    PC4     |    PC1     |   0.329    |   -0.076   |   0.021    |\n",
      "|    PC4     |    PC4     |   0.329    |   0.574    |   0.493    |\n",
      "+ ---------- + ---------- + ---------- + ---------- + ---------- +\n"
     ]
    }
   ],
   "source": [
    "data_file = [pc1, pc4]\n",
    "release = ['PC1', 'PC4']\n",
    "print ('Ranking files with linear regression (Pearson and Spearman correlation)')\n",
    "print ('+ {:^10} + {:^10} + {:^10} + {:^10} + {:^10} +'.format('----------', '----------', '----------','----------','----------'))\n",
    "print ('| {:^10} | {:^10} | {:^10} | {:^10} | {:^10} |'.format('Training', 'Testing', 'R2','Pearson','Spearman'))\n",
    "print ('+ {:^10} + {:^10} + {:^10} + {:^10} + {:^10} +'.format('----------', '----------', '----------','----------','----------'))\n",
    "for i in range (0, 2):\n",
    "    for j in range (0, 2):\n",
    "        r = ranking(data_file [i], data_file [j])\n",
    "        print ('| {:^10} | {:^10} | {:^10} | {:^10} | {:^10} |'.format(release[i], release[j], r[0],r[1],r[2]))\n",
    "print ('+ {:^10} + {:^10} + {:^10} + {:^10} + {:^10} +'.format('----------', '----------', '----------','----------','----------'))"
   ]
  },
  {
   "cell_type": "code",
   "execution_count": 255,
   "metadata": {},
   "outputs": [],
   "source": [
    "import statsmodels.api as sm\n",
    "import statsmodels.formula.api as smf\n",
    "\n",
    "def classification(train, test):\n",
    "    formula = '(Defective>0) ~ LOC_BLANK + BRANCH_COUNT+CALL_PAIRS + LOC_CODE_AND_COMMENT + LOC_COMMENTS + CONDITION_COUNT + CYCLOMATIC_COMPLEXITY + CYCLOMATIC_DENSITY + DECISION_COUNT + DECISION_DENSITY + DESIGN_COMPLEXITY + DESIGN_DENSITY + EDGE_COUNT + ESSENTIAL_COMPLEXITY + ESSENTIAL_DENSITY + LOC_EXECUTABLE + PARAMETER_COUNT + HALSTEAD_CONTENT + HALSTEAD_DIFFICULTY + HALSTEAD_EFFORT + HALSTEAD_ERROR_EST + HALSTEAD_LENGTH + HALSTEAD_LEVEL + HALSTEAD_PROG_TIME + HALSTEAD_VOLUME + MAINTENANCE_SEVERITY + MODIFIED_CONDITION_COUNT + MULTIPLE_CONDITION_COUNT + NODE_COUNT + NORMALIZED_CYLOMATIC_COMPLEXITY + NUM_OPERANDS + NUM_OPERATORS + NUM_UNIQUE_OPERANDS + NUM_UNIQUE_OPERATORS + NUMBER_OF_LINES + PERCENT_COMMENTS + LOC_TOTAL'\n",
    "    model = smf.glm(formula=formula, data=train, family=sm.families.Binomial())\n",
    "    result = model.fit()\n",
    "    predictions = result.predict(test)\n",
    "    TN = 0.0\n",
    "    FN = 0.0\n",
    "    FP = 0.0\n",
    "    TP = 0.0\n",
    "    for i in range(len(test['Defective'])):\n",
    "        if test['Defective'][i] > 0 and predictions[i] > 0.5 :\n",
    "            FN = FN + 1\n",
    "        elif test['Defective'][i] > 0 and (not(predictions[i] > 0.5)) :\n",
    "            TP = TP + 1\n",
    "        elif (not(test['Defective'][i] > 0)) and predictions[i] > 0.5 :\n",
    "            TN = TN + 1\n",
    "        else :\n",
    "            FP = FP + 1\n",
    "    if (TP + FP == 0):\n",
    "        precision = round(1, 3)\n",
    "    else:\n",
    "        precision = round((TP / (TP + FP)), 3)\n",
    "    recall = round((TP / (TP + FN)), 3)\n",
    "    accuracy = round(((TP + TN) / (TN + FN + FP + TP)), 3)\n",
    "    f = round(((2*recall*precision)/(recall+precision)), 3)\n",
    "    classification = [f ,precision ,recall ,accuracy]\n",
    "    return classification;\n"
   ]
  },
  {
   "cell_type": "code",
   "execution_count": 257,
   "metadata": {},
   "outputs": [
    {
     "name": "stdout",
     "output_type": "stream",
     "text": [
      "Classification of files.(Precision P, Recall R, and Accuracy Acc)\n",
      "+ ---------- + ---------- + ---------- + ---------- + ---------- + ---------- +\n",
      "|  Training  |  Testing   |     P      |     R      |    Acc     |     F      |\n",
      "+ ---------- + ---------- + ---------- + ---------- + ---------- + ---------- +\n",
      "|    PC1     |    PC1     |   0.679    |   0.345    |   0.934    |   0.458    |\n",
      "|    PC1     |    PC4     |    0.5     |   0.119    |   0.861    |   0.192    |\n",
      "|    PC4     |    PC1     |    0.15    |   0.055    |   0.898    |    0.08    |\n",
      "|    PC4     |    PC4     |   0.795    |   0.528    |   0.916    |   0.635    |\n",
      "+ ---------- + ---------- + ---------- + ---------- + ---------- + ---------- +\n"
     ]
    }
   ],
   "source": [
    "Pf1 = []\n",
    "Rf1 = []\n",
    "Accf1 = []\n",
    "Ff1 = []\n",
    "print('Classification of files.(Precision P, Recall R, and Accuracy Acc)')\n",
    "print('+ {:^10} + {:^10} + {:^10} + {:^10} + {:^10} + {:^10} +'.format('----------', '----------', '----------','----------','----------','----------'))\n",
    "print('| {:^10} | {:^10} | {:^10} | {:^10} | {:^10} | {:^10} |'.format('Training', 'Testing', 'P','R', 'Acc', 'F'))\n",
    "print('+ {:^10} + {:^10} + {:^10} + {:^10} + {:^10} + {:^10} +'.format('----------', '----------', '----------','----------','----------','----------'))\n",
    "for i in range (0, 2):\n",
    "    for j in range (0, 2):\n",
    "        r = classification(data_file [i], data_file [j])\n",
    "        Pf1.append(r[1])\n",
    "        Rf1.append(r[2])\n",
    "        Accf1.append(r[3])\n",
    "        Ff1.append(r[0])\n",
    "        print('| {:^10} | {:^10} | {:^10} | {:^10} | {:^10} | {:^10} |'.format(release[i], release[j], r[1],r[2], r[3], r[0]))\n",
    "print('+ {:^10} + {:^10} + {:^10} + {:^10} + {:^10} + {:^10} +'.format('----------', '----------', '----------','----------','----------','----------'))"
   ]
  },
  {
   "cell_type": "code",
   "execution_count": 258,
   "metadata": {},
   "outputs": [],
   "source": [
    "from sklearn import tree\n",
    "import graphviz\n",
    "import pydotplus\n",
    "def decision_tree(train, test):\n",
    "    X = train[['LOC_BLANK', 'BRANCH_COUNT','CALL_PAIRS', 'LOC_CODE_AND_COMMENT', 'LOC_COMMENTS', 'CONDITION_COUNT', 'CYCLOMATIC_COMPLEXITY', 'CYCLOMATIC_DENSITY', 'DECISION_COUNT', 'DECISION_DENSITY', 'DESIGN_COMPLEXITY', 'DESIGN_DENSITY', 'EDGE_COUNT', 'ESSENTIAL_COMPLEXITY', 'ESSENTIAL_DENSITY', 'LOC_EXECUTABLE', 'PARAMETER_COUNT', 'HALSTEAD_CONTENT', 'HALSTEAD_DIFFICULTY', 'HALSTEAD_EFFORT', 'HALSTEAD_ERROR_EST', 'HALSTEAD_LENGTH', 'HALSTEAD_LEVEL', 'HALSTEAD_PROG_TIME', 'HALSTEAD_VOLUME', 'MAINTENANCE_SEVERITY', 'MODIFIED_CONDITION_COUNT', 'MULTIPLE_CONDITION_COUNT', 'NODE_COUNT', 'NORMALIZED_CYLOMATIC_COMPLEXITY', 'NUM_OPERANDS', 'NUM_OPERATORS','NUM_UNIQUE_OPERANDS','NUM_UNIQUE_OPERATORS','NUMBER_OF_LINES','PERCENT_COMMENTS','LOC_TOTAL']]\n",
    "    Y = train['Defective']\n",
    "    clf = tree.DecisionTreeRegressor()\n",
    "    clf = clf.fit(X, Y)\n",
    "    X_test = test[['LOC_BLANK', 'BRANCH_COUNT','CALL_PAIRS', 'LOC_CODE_AND_COMMENT', 'LOC_COMMENTS', 'CONDITION_COUNT', 'CYCLOMATIC_COMPLEXITY', 'CYCLOMATIC_DENSITY', 'DECISION_COUNT', 'DECISION_DENSITY', 'DESIGN_COMPLEXITY', 'DESIGN_DENSITY', 'EDGE_COUNT', 'ESSENTIAL_COMPLEXITY', 'ESSENTIAL_DENSITY', 'LOC_EXECUTABLE', 'PARAMETER_COUNT', 'HALSTEAD_CONTENT', 'HALSTEAD_DIFFICULTY', 'HALSTEAD_EFFORT', 'HALSTEAD_ERROR_EST', 'HALSTEAD_LENGTH', 'HALSTEAD_LEVEL', 'HALSTEAD_PROG_TIME', 'HALSTEAD_VOLUME', 'MAINTENANCE_SEVERITY', 'MODIFIED_CONDITION_COUNT', 'MULTIPLE_CONDITION_COUNT', 'NODE_COUNT', 'NORMALIZED_CYLOMATIC_COMPLEXITY', 'NUM_OPERANDS', 'NUM_OPERATORS','NUM_UNIQUE_OPERANDS','NUM_UNIQUE_OPERATORS','NUMBER_OF_LINES','PERCENT_COMMENTS','LOC_TOTAL']]\n",
    "    Y_pred = clf.predict(X_test)\n",
    "    Y_post = test['Defective']\n",
    "    #feature_names = X.columns\n",
    "    #dot_data = tree.export_graphviz(clf, out_file=None, max_depth = 6, feature_names=feature_names)\n",
    "    #graphh = pydotplus.graph_from_dot_data(dot_data)\n",
    "    #graphh.write_pdf(\"D:/Python/graph1.pdf\")\n",
    "    TN = 0.0\n",
    "    FN = 0.0\n",
    "    FP = 0.0\n",
    "    TP = 0.0\n",
    "    for i in range(len(Y_post)):\n",
    "        if Y_post[i] > 0 and Y_pred[i] < 0.5 :\n",
    "            FN = FN + 1\n",
    "        elif Y_post[i] > 0 and (not(Y_pred[i] < 0.5)) :\n",
    "            TP = TP + 1\n",
    "        elif (not(Y_post[i] > 0)) and Y_pred[i] < 0.5 :\n",
    "            TN = TN + 1\n",
    "        else :\n",
    "            FP = FP + 1\n",
    "    if (TP + FP == 0):\n",
    "        precision = round(1, 3)\n",
    "    else:\n",
    "        precision = round((TP / (TP + FP)), 3)\n",
    "    recall = round((TP / (TP + FN)), 3)\n",
    "    accuracy = round(((TP + TN) / (TN + FN + FP + TP)),3)\n",
    "    f = round(((2*recall*precision)/(recall+precision)), 3)\n",
    "    classification = [f ,precision ,recall ,accuracy]\n",
    "    return classification;"
   ]
  },
  {
   "cell_type": "code",
   "execution_count": 259,
   "metadata": {},
   "outputs": [],
   "source": [
    "def decision_trees(files):\n",
    "    X = files[['LOC_BLANK', 'BRANCH_COUNT','CALL_PAIRS', 'LOC_CODE_AND_COMMENT', 'LOC_COMMENTS', 'CONDITION_COUNT', 'CYCLOMATIC_COMPLEXITY', 'CYCLOMATIC_DENSITY', 'DECISION_COUNT', 'DECISION_DENSITY', 'DESIGN_COMPLEXITY', 'DESIGN_DENSITY', 'EDGE_COUNT', 'ESSENTIAL_COMPLEXITY', 'ESSENTIAL_DENSITY', 'LOC_EXECUTABLE', 'PARAMETER_COUNT', 'HALSTEAD_CONTENT', 'HALSTEAD_DIFFICULTY', 'HALSTEAD_EFFORT', 'HALSTEAD_ERROR_EST', 'HALSTEAD_LENGTH', 'HALSTEAD_LEVEL', 'HALSTEAD_PROG_TIME', 'HALSTEAD_VOLUME', 'MAINTENANCE_SEVERITY', 'MODIFIED_CONDITION_COUNT', 'MULTIPLE_CONDITION_COUNT', 'NODE_COUNT', 'NORMALIZED_CYLOMATIC_COMPLEXITY', 'NUM_OPERANDS', 'NUM_OPERATORS','NUM_UNIQUE_OPERANDS','NUM_UNIQUE_OPERATORS','NUMBER_OF_LINES','PERCENT_COMMENTS','LOC_TOTAL']]\n",
    "    Y = files['Defective']\n",
    "    X_train, X_test, Y_train, Y_test = train_test_split(X, Y, test_size=0.3, random_state=0)\n",
    "    X_test.index = range(len(X_test.index))\n",
    "    Y_test.index = range(len(Y_test.index))\n",
    "    clf = tree.DecisionTreeRegressor()\n",
    "    clf = clf.fit(X_train, Y_train)\n",
    "    Y_pred = clf.predict(X_test)\n",
    "    Y_post = Y_test\n",
    "    #feature_names = X.columns\n",
    "    #dot_data = tree.export_graphviz(clf, out_file=None, max_depth = 6, feature_names=feature_names)\n",
    "    #graphh = pydotplus.graph_from_dot_data(dot_data)\n",
    "    #graphh.write_pdf(\"D:/Python/graph1.pdf\")\n",
    "    TN = 0.0\n",
    "    FN = 0.0\n",
    "    FP = 0.0\n",
    "    TP = 0.0\n",
    "    for i in range(len(Y_post)):\n",
    "        if Y_post[i] > 0 and Y_pred[i] < 0.5 :\n",
    "            FN = FN + 1\n",
    "        elif Y_post[i] > 0 and (not(Y_pred[i] < 0.5)) :\n",
    "            TP = TP + 1\n",
    "        elif (not(Y_post[i] > 0)) and Y_pred[i] < 0.5 :\n",
    "            TN = TN + 1\n",
    "        else :\n",
    "            FP = FP + 1\n",
    "    if (TP + FP == 0):\n",
    "        precision = round(1, 3)\n",
    "    else:\n",
    "        precision = round((TP / (TP + FP)), 3)\n",
    "    recall = round((TP / (TP + FN)), 3)\n",
    "    accuracy = round(((TP + TN) / (TN + FN + FP + TP)),3)\n",
    "    f = round(((2*recall*precision)/(recall+precision)), 3)\n",
    "    classification = [f ,precision ,recall ,accuracy]\n",
    "    return classification;"
   ]
  },
  {
   "cell_type": "code",
   "execution_count": 260,
   "metadata": {},
   "outputs": [
    {
     "name": "stdout",
     "output_type": "stream",
     "text": [
      "Classification of files.(Precision P, Recall R, and Accuracy Acc)\n",
      "+ ---------- + ---------- + ---------- + ---------- + ---------- + ---------- +\n",
      "|  Training  |  Testing   |     P      |     R      |    Acc     |     F      |\n",
      "+ ---------- + ---------- + ---------- + ---------- + ---------- + ---------- +\n",
      "|    PC1     |    PC1     |   0.227    |    0.25    |   0.843    |   0.238    |\n",
      "|    PC1     |    PC4     |   0.322    |   0.324    |   0.812    |   0.323    |\n",
      "|    PC4     |    PC1     |   0.226    |   0.255    |   0.869    |    0.24    |\n",
      "|    PC4     |    PC4     |   0.533    |   0.453    |   0.869    |    0.49    |\n",
      "+ ---------- + ---------- + ---------- + ---------- + ---------- + ---------- +\n"
     ]
    }
   ],
   "source": [
    "Pf2 = []\n",
    "Rf2 = []\n",
    "Accf2 = []\n",
    "Ff2 = []\n",
    "print('Classification of files.(Precision P, Recall R, and Accuracy Acc)')\n",
    "print('+ {:^10} + {:^10} + {:^10} + {:^10} + {:^10} + {:^10} +'.format('----------', '----------', '----------','----------','----------','----------'))\n",
    "print('| {:^10} | {:^10} | {:^10} | {:^10} | {:^10} | {:^10} |'.format('Training', 'Testing', 'P','R', 'Acc', 'F'))\n",
    "print('+ {:^10} + {:^10} + {:^10} + {:^10} + {:^10} + {:^10} +'.format('----------', '----------', '----------','----------','----------','----------'))\n",
    "for i in range (0, 2):\n",
    "    for j in range (0, 2):\n",
    "        if i == j:\n",
    "            r = decision_trees(data_file [i])\n",
    "        else:\n",
    "            r = decision_tree(data_file [i], data_file [j])\n",
    "        Ff2.append(r[0])\n",
    "        Pf2.append(r[1])\n",
    "        Rf2.append(r[2])\n",
    "        Accf2.append(r[3])\n",
    "        print('| {:^10} | {:^10} | {:^10} | {:^10} | {:^10} | {:^10} |'.format(release[i], release[j],r[1],r[2], r[3], r[0]))\n",
    "print('+ {:^10} + {:^10} + {:^10} + {:^10} + {:^10} + {:^10} +'.format('----------', '----------', '----------','----------','----------','----------'))"
   ]
  },
  {
   "cell_type": "code",
   "execution_count": 261,
   "metadata": {},
   "outputs": [],
   "source": [
    "from sklearn.ensemble import RandomForestRegressor\n",
    "from sklearn.ensemble import RandomForestClassifier\n",
    "from sklearn.datasets import make_classification"
   ]
  },
  {
   "cell_type": "code",
   "execution_count": 262,
   "metadata": {},
   "outputs": [],
   "source": [
    "def random_forest(train, test):\n",
    "    X = train[['LOC_BLANK', 'BRANCH_COUNT','CALL_PAIRS', 'LOC_CODE_AND_COMMENT', 'LOC_COMMENTS', 'CONDITION_COUNT', 'CYCLOMATIC_COMPLEXITY', 'CYCLOMATIC_DENSITY', 'DECISION_COUNT', 'DECISION_DENSITY', 'DESIGN_COMPLEXITY', 'DESIGN_DENSITY', 'EDGE_COUNT', 'ESSENTIAL_COMPLEXITY', 'ESSENTIAL_DENSITY', 'LOC_EXECUTABLE', 'PARAMETER_COUNT', 'HALSTEAD_CONTENT', 'HALSTEAD_DIFFICULTY', 'HALSTEAD_EFFORT', 'HALSTEAD_ERROR_EST', 'HALSTEAD_LENGTH', 'HALSTEAD_LEVEL', 'HALSTEAD_PROG_TIME', 'HALSTEAD_VOLUME', 'MAINTENANCE_SEVERITY', 'MODIFIED_CONDITION_COUNT', 'MULTIPLE_CONDITION_COUNT', 'NODE_COUNT', 'NORMALIZED_CYLOMATIC_COMPLEXITY', 'NUM_OPERANDS', 'NUM_OPERATORS','NUM_UNIQUE_OPERANDS','NUM_UNIQUE_OPERATORS','NUMBER_OF_LINES','PERCENT_COMMENTS','LOC_TOTAL']]\n",
    "    Y = train['Defective']\n",
    "    Yy = {}\n",
    "    for i in range(len(train['Defective'])):\n",
    "        if Y[i] > 0 :\n",
    "            Yy[i] = 1;\n",
    "        else:\n",
    "            Yy[i] = 0\n",
    "    dict_new = {\n",
    "        'Defective': Yy\n",
    "    }\n",
    "    yy = pd.DataFrame(dict_new)\n",
    "    Y = yy['Defective']\n",
    "    regr = RandomForestRegressor(max_depth=2, random_state=0, n_estimators=100)\n",
    "    regr.fit(X, Y)\n",
    "    X_test = test[['LOC_BLANK', 'BRANCH_COUNT','CALL_PAIRS', 'LOC_CODE_AND_COMMENT', 'LOC_COMMENTS', 'CONDITION_COUNT', 'CYCLOMATIC_COMPLEXITY', 'CYCLOMATIC_DENSITY', 'DECISION_COUNT', 'DECISION_DENSITY', 'DESIGN_COMPLEXITY', 'DESIGN_DENSITY', 'EDGE_COUNT', 'ESSENTIAL_COMPLEXITY', 'ESSENTIAL_DENSITY', 'LOC_EXECUTABLE', 'PARAMETER_COUNT', 'HALSTEAD_CONTENT', 'HALSTEAD_DIFFICULTY', 'HALSTEAD_EFFORT', 'HALSTEAD_ERROR_EST', 'HALSTEAD_LENGTH', 'HALSTEAD_LEVEL', 'HALSTEAD_PROG_TIME', 'HALSTEAD_VOLUME', 'MAINTENANCE_SEVERITY', 'MODIFIED_CONDITION_COUNT', 'MULTIPLE_CONDITION_COUNT', 'NODE_COUNT', 'NORMALIZED_CYLOMATIC_COMPLEXITY', 'NUM_OPERANDS', 'NUM_OPERATORS','NUM_UNIQUE_OPERANDS','NUM_UNIQUE_OPERATORS','NUMBER_OF_LINES','PERCENT_COMMENTS','LOC_TOTAL']]\n",
    "    Y_pred = regr.predict(X_test)\n",
    "    Y_post = test['Defective']\n",
    "    TN = 0.0\n",
    "    FN = 0.0\n",
    "    FP = 0.0\n",
    "    TP = 0.0\n",
    "    for i in range(len(Y_post)):\n",
    "        if Y_post[i] > 0 and Y_pred[i] < 0.5 :\n",
    "            FN = FN + 1\n",
    "        elif Y_post[i] > 0 and (not(Y_pred[i] < 0.5)) :\n",
    "            TP = TP + 1\n",
    "        elif (not(Y_post[i] > 0)) and Y_pred[i] < 0.5 :\n",
    "            TN = TN + 1\n",
    "        else :\n",
    "            FP = FP + 1\n",
    "    if (TP + FP == 0):\n",
    "        precision = round(1, 3)\n",
    "    else:\n",
    "        precision = round((TP / (TP + FP)), 3)\n",
    "    recall = round((TP / (TP + FN)), 3)\n",
    "    accuracy = round(((TP + TN) / (TN + FN + FP + TP)),3)\n",
    "    f = round(((2*recall*precision)/(recall+precision)), 3)\n",
    "    classification = [f ,precision ,recall ,accuracy]\n",
    "    return classification;\n"
   ]
  },
  {
   "cell_type": "code",
   "execution_count": 264,
   "metadata": {},
   "outputs": [
    {
     "name": "stdout",
     "output_type": "stream",
     "text": [
      "Classification of files.(Precision P, Recall R, and Accuracy Acc)\n",
      "+ ---------- + ---------- + ---------- + ---------- + ---------- + ---------- +\n",
      "|  Training  |  Testing   |     P      |     R      |    Acc     |     F      |\n",
      "+ ---------- + ---------- + ---------- + ---------- + ---------- + ---------- +\n",
      "|    PC1     |    PC1     |   0.929    |   0.236    |   0.937    |   0.376    |\n",
      "|    PC1     |    PC4     |   0.111    |   0.006    |   0.856    |   0.011    |\n",
      "|    PC4     |    PC1     |   0.524    |    0.2     |    0.92    |    0.29    |\n",
      "|    PC4     |    PC4     |   0.722    |   0.295    |   0.887    |   0.419    |\n",
      "+ ---------- + ---------- + ---------- + ---------- + ---------- + ---------- +\n"
     ]
    }
   ],
   "source": [
    "Pf3 = []\n",
    "Rf3 = []\n",
    "Accf3 = []\n",
    "Ff3 = []\n",
    "print('Classification of files.(Precision P, Recall R, and Accuracy Acc)')\n",
    "print('+ {:^10} + {:^10} + {:^10} + {:^10} + {:^10} + {:^10} +'.format('----------', '----------', '----------','----------','----------','----------'))\n",
    "print('| {:^10} | {:^10} | {:^10} | {:^10} | {:^10} | {:^10} |'.format('Training', 'Testing','P','R', 'Acc', 'F'))\n",
    "print('+ {:^10} + {:^10} + {:^10} + {:^10} + {:^10} + {:^10} +'.format('----------', '----------', '----------','----------','----------','----------'))\n",
    "for i in range (0, 2):\n",
    "    for j in range (0, 2):\n",
    "        r = random_forest(data_file [i], data_file [j])\n",
    "        Ff3.append(r[0])\n",
    "        Pf3.append(r[1])\n",
    "        Rf3.append(r[2])\n",
    "        Accf3.append(r[3])\n",
    "        print('| {:^10} | {:^10} | {:^10} | {:^10} | {:^10} | {:^10} |'.format(release[i], release[j],r[1],r[2], r[3], r[0]))\n",
    "print('+ {:^10} + {:^10} + {:^10} + {:^10} + {:^10} + {:^10} +'.format('----------', '----------', '----------','----------','----------','----------'))"
   ]
  },
  {
   "cell_type": "code",
   "execution_count": null,
   "metadata": {},
   "outputs": [],
   "source": []
  },
  {
   "cell_type": "code",
   "execution_count": null,
   "metadata": {},
   "outputs": [],
   "source": []
  }
 ],
 "metadata": {
  "kernelspec": {
   "display_name": "Python 3",
   "language": "python",
   "name": "python3"
  },
  "language_info": {
   "codemirror_mode": {
    "name": "ipython",
    "version": 3
   },
   "file_extension": ".py",
   "mimetype": "text/x-python",
   "name": "python",
   "nbconvert_exporter": "python",
   "pygments_lexer": "ipython3",
   "version": "3.7.2"
  }
 },
 "nbformat": 4,
 "nbformat_minor": 2
}
